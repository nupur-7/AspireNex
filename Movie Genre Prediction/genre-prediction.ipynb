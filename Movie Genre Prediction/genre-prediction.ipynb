{
 "cells": [
  {
   "cell_type": "code",
   "execution_count": 24,
   "metadata": {},
   "outputs": [],
   "source": [
    "import pandas as pd"
   ]
  },
  {
   "cell_type": "markdown",
   "metadata": {},
   "source": [
    "## Loading Dataset"
   ]
  },
  {
   "cell_type": "code",
   "execution_count": 25,
   "metadata": {},
   "outputs": [
    {
     "name": "stdout",
     "output_type": "stream",
     "text": [
      "   id                                Name       Genre  \\\n",
      "0   1       Oscar et la dame rose (2009)       drama    \n",
      "1   2                       Cupid (1997)    thriller    \n",
      "2   3   Young, Wild and Wonderful (1980)       adult    \n",
      "3   4              The Secret Sin (1915)       drama    \n",
      "4   5             The Unrecovered (2007)       drama    \n",
      "\n",
      "                                         Description  \n",
      "0   Listening in to a conversation between his do...  \n",
      "1   A brother and sister with a past incestuous r...  \n",
      "2   As the bus empties the students for their fie...  \n",
      "3   To help their unemployed father make ends mee...  \n",
      "4   The film's title refers not only to the un-re...  \n"
     ]
    }
   ],
   "source": [
    "col=['id','Name','Genre','Description']\n",
    "df= pd.read_csv('train_data.txt',delimiter=':::',header=None,names=col,engine='python')\n",
    "print(df.head())"
   ]
  },
  {
   "cell_type": "code",
   "execution_count": 26,
   "metadata": {},
   "outputs": [
    {
     "data": {
      "text/plain": [
       "id             0\n",
       "Name           0\n",
       "Genre          0\n",
       "Description    0\n",
       "dtype: int64"
      ]
     },
     "execution_count": 26,
     "metadata": {},
     "output_type": "execute_result"
    }
   ],
   "source": [
    "df.isnull().sum()"
   ]
  },
  {
   "cell_type": "code",
   "execution_count": 27,
   "metadata": {},
   "outputs": [
    {
     "name": "stdout",
     "output_type": "stream",
     "text": [
      "<class 'pandas.core.frame.DataFrame'>\n",
      "RangeIndex: 54214 entries, 0 to 54213\n",
      "Data columns (total 4 columns):\n",
      " #   Column       Non-Null Count  Dtype \n",
      "---  ------       --------------  ----- \n",
      " 0   id           54214 non-null  int64 \n",
      " 1   Name         54214 non-null  object\n",
      " 2   Genre        54214 non-null  object\n",
      " 3   Description  54214 non-null  object\n",
      "dtypes: int64(1), object(3)\n",
      "memory usage: 1.7+ MB\n"
     ]
    }
   ],
   "source": [
    "df.info()"
   ]
  },
  {
   "cell_type": "code",
   "execution_count": 28,
   "metadata": {},
   "outputs": [
    {
     "name": "stdout",
     "output_type": "stream",
     "text": [
      "Are there any duplicated values in data? False\n"
     ]
    }
   ],
   "source": [
    "dup_data=df.duplicated().any()\n",
    "print(\"Are there any duplicated values in data?\",dup_data)"
   ]
  },
  {
   "cell_type": "code",
   "execution_count": 29,
   "metadata": {},
   "outputs": [
    {
     "name": "stdout",
     "output_type": "stream",
     "text": [
      "   id                           Name  \\\n",
      "0   1          Edgar's Lunch (1998)    \n",
      "1   2      La guerra de papá (1977)    \n",
      "2   3   Off the Beaten Track (2010)    \n",
      "3   4        Meu Amigo Hindu (2015)    \n",
      "4   5             Er nu zhai (1955)    \n",
      "\n",
      "                                         Description  \n",
      "0   L.R. Brane loves his life - his car, his apar...  \n",
      "1   Spain, March 1964: Quico is a very naughty ch...  \n",
      "2   One year in the life of Albin and his family ...  \n",
      "3   His father has died, he hasn't spoken with hi...  \n",
      "4   Before he was known internationally as a mart...  \n"
     ]
    }
   ],
   "source": [
    "cols=['id','Name','Description']\n",
    "testdf= pd.read_csv('test_data.txt',delimiter=':::',header=None,names=cols,engine='python')\n",
    "print(testdf.head())"
   ]
  },
  {
   "cell_type": "code",
   "execution_count": 30,
   "metadata": {},
   "outputs": [
    {
     "name": "stderr",
     "output_type": "stream",
     "text": [
      "[nltk_data] Downloading package stopwords to\n",
      "[nltk_data]     C:\\Users\\nupur\\AppData\\Roaming\\nltk_data...\n",
      "[nltk_data]   Package stopwords is already up-to-date!\n"
     ]
    },
    {
     "data": {
      "text/plain": [
       "True"
      ]
     },
     "execution_count": 30,
     "metadata": {},
     "output_type": "execute_result"
    }
   ],
   "source": [
    "import nltk \n",
    "import re\n",
    "from nltk.stem import PorterStemmer\n",
    "from nltk.corpus import stopwords\n",
    "import string\n",
    "nltk.download('stopwords')"
   ]
  },
  {
   "cell_type": "markdown",
   "metadata": {},
   "source": [
    "## Data Preprocessing"
   ]
  },
  {
   "cell_type": "code",
   "execution_count": 31,
   "metadata": {},
   "outputs": [],
   "source": [
    "def clean(text):\n",
    "    # Convert to lowercase\n",
    "    text = text.lower()\n",
    "    \n",
    "    # Remove HTML tags\n",
    "    text = re.sub(r'<.*?>', '', text)\n",
    "    \n",
    "    # Remove URLs\n",
    "    text = re.sub(r\"https?://[^\\s]+\", \"\", text)\n",
    "    \n",
    "    # Remove non-alphabetic characters and punctuations\n",
    "    text = re.sub(r'[^\\w\\s]', '', text)\n",
    "    \n",
    "    # Remove stopwords and apply stemming\n",
    "    stop_words = set(stopwords.words('english'))\n",
    "    stemmer = PorterStemmer()\n",
    "    text = ' '.join([stemmer.stem(word) for word in text.split() if word not in stop_words])\n",
    "    \n",
    "    return text\n"
   ]
  },
  {
   "cell_type": "code",
   "execution_count": 32,
   "metadata": {},
   "outputs": [],
   "source": [
    "df['Description']=df['Description'].apply(clean)\n",
    "df.head()"
   ]
  },
  {
   "cell_type": "code",
   "execution_count": null,
   "metadata": {},
   "outputs": [
    {
     "data": {
      "text/html": [
       "<div>\n",
       "<style scoped>\n",
       "    .dataframe tbody tr th:only-of-type {\n",
       "        vertical-align: middle;\n",
       "    }\n",
       "\n",
       "    .dataframe tbody tr th {\n",
       "        vertical-align: top;\n",
       "    }\n",
       "\n",
       "    .dataframe thead th {\n",
       "        text-align: right;\n",
       "    }\n",
       "</style>\n",
       "<table border=\"1\" class=\"dataframe\">\n",
       "  <thead>\n",
       "    <tr style=\"text-align: right;\">\n",
       "      <th></th>\n",
       "      <th>id</th>\n",
       "      <th>Name</th>\n",
       "      <th>Description</th>\n",
       "    </tr>\n",
       "  </thead>\n",
       "  <tbody>\n",
       "    <tr>\n",
       "      <th>0</th>\n",
       "      <td>1</td>\n",
       "      <td>Edgar's Lunch (1998)</td>\n",
       "      <td>lr brane love life car apart job especi girlfr...</td>\n",
       "    </tr>\n",
       "    <tr>\n",
       "      <th>1</th>\n",
       "      <td>2</td>\n",
       "      <td>La guerra de papá (1977)</td>\n",
       "      <td>spain march 1964 quico naughti child three bel...</td>\n",
       "    </tr>\n",
       "    <tr>\n",
       "      <th>2</th>\n",
       "      <td>3</td>\n",
       "      <td>Off the Beaten Track (2010)</td>\n",
       "      <td>one year life albin famili shepherd north tran...</td>\n",
       "    </tr>\n",
       "    <tr>\n",
       "      <th>3</th>\n",
       "      <td>4</td>\n",
       "      <td>Meu Amigo Hindu (2015)</td>\n",
       "      <td>father die hasnt spoken brother 10 year seriou...</td>\n",
       "    </tr>\n",
       "    <tr>\n",
       "      <th>4</th>\n",
       "      <td>5</td>\n",
       "      <td>Er nu zhai (1955)</td>\n",
       "      <td>known intern martial art superstar bruce lee a...</td>\n",
       "    </tr>\n",
       "  </tbody>\n",
       "</table>\n",
       "</div>"
      ],
      "text/plain": [
       "   id                           Name  \\\n",
       "0   1          Edgar's Lunch (1998)    \n",
       "1   2      La guerra de papá (1977)    \n",
       "2   3   Off the Beaten Track (2010)    \n",
       "3   4        Meu Amigo Hindu (2015)    \n",
       "4   5             Er nu zhai (1955)    \n",
       "\n",
       "                                         Description  \n",
       "0  lr brane love life car apart job especi girlfr...  \n",
       "1  spain march 1964 quico naughti child three bel...  \n",
       "2  one year life albin famili shepherd north tran...  \n",
       "3  father die hasnt spoken brother 10 year seriou...  \n",
       "4  known intern martial art superstar bruce lee a...  "
      ]
     },
     "execution_count": 11,
     "metadata": {},
     "output_type": "execute_result"
    }
   ],
   "source": [
    "testdf['Description']=testdf['Description'].apply(clean)\n",
    "testdf.head()"
   ]
  },
  {
   "cell_type": "markdown",
   "metadata": {},
   "source": [
    "## Data Visualisation"
   ]
  },
  {
   "cell_type": "code",
   "execution_count": null,
   "metadata": {},
   "outputs": [
    {
     "name": "stderr",
     "output_type": "stream",
     "text": [
      "C:\\Users\\nupur\\AppData\\Local\\Temp\\ipykernel_38312\\2585308014.py:6: FutureWarning: \n",
      "\n",
      "Passing `palette` without assigning `hue` is deprecated and will be removed in v0.14.0. Assign the `x` variable to `hue` and set `legend=False` for the same effect.\n",
      "\n",
      "  sns.countplot(x='Genre', data=df, order=df['Genre'].value_counts().index, palette='pastel')\n"
     ]
    },
    {
     "data": {
      "image/png": "[encoded data removed]",
      "text/plain": [
       "<Figure size 1000x600 with 1 Axes>"
      ]
     },
     "metadata": {},
     "output_type": "display_data"
    }
   ],
   "source": [
    "import seaborn as sns\n",
    "import matplotlib.pyplot as plt\n",
    "\n",
    "# Plot the distribution of genres in the training dataset\n",
    "plt.figure(figsize=(10,6))\n",
    "sns.countplot(x='Genre', data=df, order=df['Genre'].value_counts().index, palette='pastel')\n",
    "plt.title('Genre Distribution')\n",
    "plt.xlabel('Genre')\n",
    "plt.ylabel('Count')\n",
    "plt.xticks(rotation=90)\n",
    "plt.tight_layout()  # Ensures the plot fits correctly in the figure\n",
    "plt.show()\n"
   ]
  },
  {
   "cell_type": "markdown",
   "metadata": {},
   "source": [
    "## Feature Extraction"
   ]
  },
  {
   "cell_type": "code",
   "execution_count": null,
   "metadata": {},
   "outputs": [],
   "source": [
    "from sklearn.feature_extraction.text import TfidfVectorizer\n",
    "\n",
    "# Feature extraction using TF-IDF\n",
    "tfidf = TfidfVectorizer(max_features=10000, ngram_range=(1, 2), min_df=5)\n",
    "X = tfidf.fit_transform(df['Description'])\n",
    "y = df['Genre']"
   ]
  },
  {
   "cell_type": "markdown",
   "metadata": {},
   "source": [
    "## Split Data and Train Model "
   ]
  },
  {
   "cell_type": "code",
   "execution_count": null,
   "metadata": {},
   "outputs": [],
   "source": [
    "from sklearn.model_selection import train_test_split\n",
    "\n",
    "# Split the data into training and testing sets\n",
    "X_train, X_test, y_train, y_test = train_test_split(X, y, test_size=0.2, random_state=42)"
   ]
  },
  {
   "cell_type": "markdown",
   "metadata": {},
   "source": [
    "## Model training "
   ]
  },
  {
   "cell_type": "code",
   "execution_count": null,
   "metadata": {},
   "outputs": [
    {
     "name": "stdout",
     "output_type": "stream",
     "text": [
      "Accuracy: 0.5886747210181684\n"
     ]
    },
    {
     "name": "stderr",
     "output_type": "stream",
     "text": [
      "c:\\Users\\nupur\\AppData\\Local\\Programs\\Python\\Python312\\Lib\\site-packages\\sklearn\\metrics\\_classification.py:1471: UndefinedMetricWarning: Precision and F-score are ill-defined and being set to 0.0 in labels with no predicted samples. Use `zero_division` parameter to control this behavior.\n",
      "  _warn_prf(average, modifier, msg_start, len(result))\n",
      "c:\\Users\\nupur\\AppData\\Local\\Programs\\Python\\Python312\\Lib\\site-packages\\sklearn\\metrics\\_classification.py:1471: UndefinedMetricWarning: Precision and F-score are ill-defined and being set to 0.0 in labels with no predicted samples. Use `zero_division` parameter to control this behavior.\n",
      "  _warn_prf(average, modifier, msg_start, len(result))\n"
     ]
    },
    {
     "name": "stdout",
     "output_type": "stream",
     "text": [
      "               precision    recall  f1-score   support\n",
      "\n",
      "      action        0.55      0.27      0.36       263\n",
      "       adult        0.87      0.24      0.38       112\n",
      "   adventure        0.48      0.17      0.25       139\n",
      "   animation        0.50      0.10      0.16       104\n",
      "   biography        0.00      0.00      0.00        61\n",
      "      comedy        0.53      0.61      0.56      1443\n",
      "       crime        0.33      0.02      0.04       107\n",
      " documentary        0.68      0.84      0.75      2659\n",
      "       drama        0.54      0.79      0.64      2697\n",
      "      family        0.45      0.09      0.15       150\n",
      "     fantasy        0.00      0.00      0.00        74\n",
      "   game-show        0.95      0.50      0.66        40\n",
      "     history        0.00      0.00      0.00        45\n",
      "      horror        0.65      0.58      0.61       431\n",
      "       music        0.63      0.48      0.55       144\n",
      "     musical        0.00      0.00      0.00        50\n",
      "     mystery        0.00      0.00      0.00        56\n",
      "        news        0.00      0.00      0.00        34\n",
      "  reality-tv        0.51      0.19      0.28       192\n",
      "     romance        0.14      0.01      0.01       151\n",
      "      sci-fi        0.58      0.24      0.34       143\n",
      "       short        0.50      0.33      0.40      1045\n",
      "       sport        0.63      0.28      0.39        93\n",
      "   talk-show        0.67      0.17      0.27        81\n",
      "    thriller        0.41      0.15      0.22       309\n",
      "         war        0.00      0.00      0.00        20\n",
      "     western        0.94      0.72      0.82       200\n",
      "\n",
      "     accuracy                           0.59     10843\n",
      "    macro avg       0.43      0.25      0.29     10843\n",
      " weighted avg       0.56      0.59      0.55     10843\n",
      "\n",
      "Confusion Matrix:\n",
      " [[  71    0    0    0    0   19    2   36   92    0    0    0    0    9\n",
      "     0    0    0    0    0    0    3    9    5    0   16    0    1]\n",
      " [   0   27   14    0    0   31    0    4   26    0    0    0    0    0\n",
      "     0    0    0    0    0    0    1    8    0    0    0    0    1]\n",
      " [   7    1   24    1    0   15    0   23   38    1    0    0    0   10\n",
      "     0    0    0    0    1    0    5    7    0    0    3    0    3]\n",
      " [   0    0    1   10    0   23    0   17   26    7    1    0    0    2\n",
      "     1    0    0    0    0    0    7    9    0    0    0    0    0]\n",
      " [   0    0    0    0    0    2    0   39   18    0    0    0    0    0\n",
      "     1    0    0    0    0    0    0    1    0    0    0    0    0]\n",
      " [   4    0    1    2    0  879    0   76  397    2    0    0    0   14\n",
      "     3    0    0    0    5    2    1   51    2    1    3    0    0]\n",
      " [   8    0    0    0    0   15    2   11   49    0    0    0    0    6\n",
      "     0    0    0    0    0    0    1    5    0    0    9    0    1]\n",
      " [   4    1    0    0    0   53    0 2239  226    1    0    0    0   10\n",
      "    22    0    0    0    5    0    2   89    2    1    4    0    0]\n",
      " [  14    1    2    0    0  239    1  210 2125    1    0    0    0   16\n",
      "     0    0    0    0    1    2    0   71    2    0   11    0    1]\n",
      " [   0    0    2    2    0   39    0   26   45   13    0    1    0    1\n",
      "     2    0    0    0    3    1    1   12    1    1    0    0    0]\n",
      " [   2    1    3    3    0   10    0   13   28    0    0    0    0    6\n",
      "     0    0    0    0    0    0    1    7    0    0    0    0    0]\n",
      " [   0    0    0    0    0    6    0    7    1    0    0   20    0    0\n",
      "     0    0    0    0    3    0    0    1    2    0    0    0    0]\n",
      " [   0    0    0    0    0    0    0   25   19    0    0    0    0    0\n",
      "     0    0    0    0    0    0    0    1    0    0    0    0    0]\n",
      " [   3    0    0    0    0   37    0   21   87    1    0    0    0  250\n",
      "     0    0    0    0    1    0    3   18    0    0    9    0    1]\n",
      " [   0    0    0    0    0    6    0   51    9    1    0    0    0    0\n",
      "    69    0    0    0    2    0    0    6    0    0    0    0    0]\n",
      " [   0    0    0    0    0   10    0    9   22    1    0    0    0    0\n",
      "     6    0    0    0    0    0    0    1    0    0    0    0    1]\n",
      " [   0    0    0    0    0    5    0    7   25    0    0    0    0    7\n",
      "     0    0    0    0    0    0    0    2    0    0   10    0    0]\n",
      " [   0    0    0    1    0    3    0   25    2    0    0    0    0    0\n",
      "     0    0    0    0    1    0    0    1    0    1    0    0    0]\n",
      " [   0    0    1    0    0   51    0   74   15    0    0    0    0    1\n",
      "     1    0    0    0   37    0    0    9    1    2    0    0    0]\n",
      " [   0    0    0    0    0   36    0    2  107    0    0    0    0    0\n",
      "     0    0    0    0    0    1    0    5    0    0    0    0    0]\n",
      " [   1    0    0    0    0   15    0   32   36    0    0    0    0   11\n",
      "     0    0    0    0    1    0   34   12    0    0    1    0    0]\n",
      " [   2    0    1    1    0  125    1  255  293    1    0    0    0   10\n",
      "     1    0    0    0    2    1    0  350    0    0    1    0    1]\n",
      " [   0    0    0    0    0   10    0   46    3    0    0    0    0    0\n",
      "     1    0    0    0    2    0    0    4   26    1    0    0    0]\n",
      " [   0    0    0    0    0    8    0   37    7    0    0    0    0    0\n",
      "     2    0    0    0    8    0    0    5    0   14    0    0    0]\n",
      " [   8    0    1    0    0   23    0   19  168    0    0    0    0   32\n",
      "     0    0    0    0    0    0    0   11    0    0   47    0    0]\n",
      " [   2    0    0    0    0    1    0    5    9    0    0    0    0    0\n",
      "     0    0    0    0    0    0    0    3    0    0    0    0    0]\n",
      " [   2    0    0    0    0   12    0    3   33    0    0    0    0    1\n",
      "     0    0    0    0    0    0    0    3    0    0    1    0  145]]\n"
     ]
    },
    {
     "name": "stderr",
     "output_type": "stream",
     "text": [
      "c:\\Users\\nupur\\AppData\\Local\\Programs\\Python\\Python312\\Lib\\site-packages\\sklearn\\metrics\\_classification.py:1471: UndefinedMetricWarning: Precision and F-score are ill-defined and being set to 0.0 in labels with no predicted samples. Use `zero_division` parameter to control this behavior.\n",
      "  _warn_prf(average, modifier, msg_start, len(result))\n"
     ]
    }
   ],
   "source": [
    "\n",
    "'''from sklearn.naive_bayes import MultinomialNB\n",
    "# Initialize Naive Bayes classifier\n",
    "nb_classifier = MultinomialNB()\n",
    "\n",
    "# Train the classifier\n",
    "nb_classifier.fit(X_train, y_train)\n",
    "//accuracy is 0.517\n",
    "multi lreg has igher 0.58'''\n",
    "\n",
    "from sklearn.svm import LinearSVC\n",
    "\n",
    "# Initialize SVM classifier\n",
    "svm_classifier = LinearSVC()\n",
    "\n",
    "# Train the classifier\n",
    "svm_classifier.fit(X_train, y_train)\n",
    "# Predict on the test data\n",
    "y_pred = svm_classifier.predict(X_test)\n",
    "\n",
    "from sklearn.linear_model import LogisticRegression\n",
    "from sklearn.metrics import accuracy_score, classification_report, confusion_matrix\n",
    "# Initialize Logistic Regression model\n",
    "logreg = LogisticRegression(multi_class='multinomial', solver='lbfgs', max_iter=1000, random_state=42)\n",
    "\n",
    "# Train the model\n",
    "logreg.fit(X_train, y_train)\n",
    "\n",
    "# Predict on the test data\n",
    "y_pred = logreg.predict(X_test)\n",
    "\n",
    "# Evaluate accuracy or other metrics\n",
    "print(\"Accuracy:\", accuracy_score(y_test, y_pred))\n",
    "print(classification_report(y_test, y_pred))\n",
    "print('Confusion Matrix:\\n', confusion_matrix(y_test, y_pred))\n"
   ]
  },
  {
   "cell_type": "code",
   "execution_count": null,
   "metadata": {},
   "outputs": [
    {
     "name": "stdout",
     "output_type": "stream",
     "text": [
      "   id                           Name  \\\n",
      "0   1          Edgar's Lunch (1998)    \n",
      "1   2      La guerra de papá (1977)    \n",
      "2   3   Off the Beaten Track (2010)    \n",
      "3   4        Meu Amigo Hindu (2015)    \n",
      "4   5             Er nu zhai (1955)    \n",
      "\n",
      "                                         Description Predicted_Genre  \n",
      "0  lr brane love life car apart job especi girlfr...          drama   \n",
      "1  spain march 1964 quico naughti child three bel...          drama   \n",
      "2  one year life albin famili shepherd north tran...    documentary   \n",
      "3  father die hasnt spoken brother 10 year seriou...          drama   \n",
      "4  known intern martial art superstar bruce lee a...          drama   \n"
     ]
    }
   ],
   "source": [
    "\n",
    "# Transform the test data\n",
    "X_test_new = tfidf.transform(testdf['Description'])\n",
    "\n",
    "test_predictions = logreg.predict(X_test_new)\n",
    "\n",
    "testdf['Predicted_Genre'] = test_predictions\n",
    "testdf.to_csv('predicted_test_data.csv', index=False)\n",
    "\n",
    "print(testdf.head())"
   ]
  }
 ],
 "metadata": {
  "kernelspec": {
   "display_name": "Python 3",
   "language": "python",
   "name": "python3"
  },
  "language_info": {
   "codemirror_mode": {
    "name": "ipython",
    "version": 3
   },
   "file_extension": ".py",
   "mimetype": "text/x-python",
   "name": "python",
   "nbconvert_exporter": "python",
   "pygments_lexer": "ipython3",
   "version": "3.12.1"
  }
 },
 "nbformat": 4,
 "nbformat_minor": 2
}
